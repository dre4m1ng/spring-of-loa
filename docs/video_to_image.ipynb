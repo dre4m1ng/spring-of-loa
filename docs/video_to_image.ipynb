{
 "cells": [
  {
   "cell_type": "markdown",
   "metadata": {},
   "source": [
    "## vedio to image(15frame)"
   ]
  },
  {
   "cell_type": "code",
   "execution_count": null,
   "metadata": {},
   "outputs": [],
   "source": [
    "import cv2\n",
    "import os\n",
    "import time\n",
    "from tqdm import tqdm\n",
    "\n",
    "# 동영상 파일 경로\n",
    "video_path = 'E:/5.spring_of_loa/SOL/Lost Ark/Video/Raid/striker_valtan_gate_01.mp4'\n",
    "\n",
    "# 이미지 저장 경로\n",
    "output_folder = 'frames'\n",
    "if not os.path.exists(output_folder):\n",
    "    os.makedirs(output_folder)\n",
    "\n",
    "# 동영상 읽기\n",
    "cap = cv2.VideoCapture(video_path)\n",
    "\n",
    "# 전체 프레임 수 확인\n",
    "total_frames = int(cap.get(cv2.CAP_PROP_FRAME_COUNT))\n",
    "\n",
    "# 프레임 카운터 초기화\n",
    "frame_count = 0\n",
    "\n",
    "# 저장할 이미지 파일 이름 초기화\n",
    "saved_frame_count = 0\n",
    "\n",
    "# 시작 시간 기록\n",
    "start_time = time.time()\n",
    "\n",
    "# tqdm으로 진행 상태 표시\n",
    "for _ in tqdm(range(0, total_frames, 4), desc=\"Processing frames\", unit=\"frame\"):\n",
    "    # 4프레임마다 동영상에서 프레임 읽기\n",
    "    cap.set(cv2.CAP_PROP_POS_FRAMES, frame_count)\n",
    "    ret, frame = cap.read()\n",
    "    \n",
    "    if not ret:\n",
    "        print(\"동영상 읽기가 끝났습니다.\")\n",
    "        break\n",
    "\n",
    "    # 이미지 저장\n",
    "    cv2.imwrite(f'{output_folder}/{saved_frame_count}.jpg', frame)\n",
    "\n",
    "    saved_frame_count += 1  # 1씩 증가\n",
    "    frame_count += 4  # 4프레임씩 건너뛰기\n",
    "\n",
    "    # 'q' 키를 누르면 종료\n",
    "    if cv2.waitKey(1) & 0xFF == ord('q'):\n",
    "        print(\"사용자가 종료키를 눌렀습니다.\")\n",
    "        break\n",
    "\n",
    "# 종료 시간 기록 및 소요 시간 계산\n",
    "end_time = time.time()\n",
    "elapsed_time = end_time - start_time\n",
    "print(f\"전체 처리 시간: {elapsed_time:.2f} 초\")\n",
    "\n",
    "cap.release()\n",
    "cv2.destroyAllWindows()\n"
   ]
  },
  {
   "cell_type": "markdown",
   "metadata": {},
   "source": [
    "## 이미지 전처리"
   ]
  },
  {
   "cell_type": "markdown",
   "metadata": {},
   "source": [
    "### RGB"
   ]
  },
  {
   "cell_type": "code",
   "execution_count": 1,
   "metadata": {},
   "outputs": [
    {
     "data": {
      "text/plain": [
       "True"
      ]
     },
     "execution_count": 1,
     "metadata": {},
     "output_type": "execute_result"
    }
   ],
   "source": [
    "# 551/554/544 번 노랑색\n",
    "# 544 = 데미지 크기 큰거 (숫자 겹침)\n",
    "# 551 = 데미지 크기 비슷한거 (숫자 겹침)\n",
    "# 554 = 데미지 하나짜리\n",
    "\n",
    "import cv2\n",
    "import numpy as np\n",
    "import matplotlib.pyplot as plt\n",
    "\n",
    "# 이미지 불러오기\n",
    "image_path = 'frames/544.jpg'\n",
    "image = cv2.imread(image_path)\n",
    "\n",
    "# 특정 색상 범위 설정 (BGR 순서)\n",
    "# 각 채널을 더 넓게 확장된 범위 설정\n",
    "upper_bound = np.array([90, 255, 255])  # 확장된 범위\n",
    "lower_bound = np.array([30, 150, 120])  # 확장된 범위\n",
    "\n",
    "# 이미지 크기를 700x700으로 줄임\n",
    "resize_img = cv2.resize(image, (720, 405))\n",
    "\n",
    "# 이미지 크기를 1920x1080으로 다시 늘림\n",
    "resize_img_1 = cv2.resize(resize_img, (1920, 1080))\n",
    "\n",
    "# 특정 색상 범위에 해당하는 부분을 이진화하여 마스크 생성\n",
    "mask = cv2.inRange(resize_img_1, lower_bound, upper_bound)\n",
    "\n",
    "# 특정 색상 부분만 추출\n",
    "result = cv2.bitwise_and(image, image, mask=mask)\n",
    "\n",
    "# 결과 이미지 출력\n",
    "cv2.imshow('Result', result)\n",
    "cv2.waitKey(0)\n",
    "cv2.destroyAllWindows()\n",
    "\n",
    "\n",
    "# JPG로 결과 이미지 저장\n",
    "cv2.imwrite('result.jpg', result)"
   ]
  },
  {
   "cell_type": "markdown",
   "metadata": {},
   "source": [
    "### cmyk"
   ]
  },
  {
   "cell_type": "code",
   "execution_count": 35,
   "metadata": {},
   "outputs": [
    {
     "data": {
      "text/plain": [
       "True"
      ]
     },
     "execution_count": 35,
     "metadata": {},
     "output_type": "execute_result"
    }
   ],
   "source": [
    "# # 544 = 데미지 크기 큰거 (숫자 겹침)\n",
    "# # 551 = 데미지 크기 비슷한거 (숫자 겹침)\n",
    "# # 554 = 데미지 하나짜리\n",
    "import cv2\n",
    "import numpy as np\n",
    "\n",
    "# RGB to CMYK 변환 함수\n",
    "def rgb_to_cmyk(rgb_image):\n",
    "    # 이미지를 0~1 사이로 정규화\n",
    "    rgb_image = rgb_image.astype(np.float32) / 255.0\n",
    "    \n",
    "    r = rgb_image[:,:,2]\n",
    "    g = rgb_image[:,:,1]\n",
    "    b = rgb_image[:,:,0]\n",
    "    \n",
    "    c = 1 - r\n",
    "    m = 1 - g\n",
    "    y = 1 - b\n",
    "    \n",
    "    k = np.minimum(c, np.minimum(m, y))\n",
    "    \n",
    "    c = (c - k) / (1 - k + 1e-10)  # 0으로 나누는 오류를 피하기 위해 작은 값 추가\n",
    "    m = (m - k) / (1 - k + 1e-10)\n",
    "    y = (y - k) / (1 - k + 1e-10)\n",
    "    \n",
    "    # K 값은 그대로 사용\n",
    "    k = k\n",
    "    \n",
    "    # CMYK 이미지 생성 (0~100% 범위로 변환)\n",
    "    cmyk_image = np.stack([c, m, y, k], axis=-1) * 100\n",
    "    cmyk_image = cmyk_image.astype(np.uint8)\n",
    "    \n",
    "    return cmyk_image\n",
    "\n",
    "# 이미지 불러오기\n",
    "image_path = 'frames/544.jpg'\n",
    "image = cv2.imread(image_path)\n",
    "\n",
    "# RGB 이미지를 CMYK로 변환\n",
    "cmyk_image = rgb_to_cmyk(image)\n",
    "\n",
    "# CMYK 색상 범위 설정 (0~100%)\n",
    "# [C, M, Y, K]\n",
    "# upper_bound_cmyk = np.array([100, 100, 100, 100])  # 상한값\n",
    "# lower_bound_cmyk = np.array([0, 0, 0, 0])  # 하한값\n",
    "upper_bound_cmyk = np.array([0, 30, 100, 10])  # 상한값\n",
    "lower_bound_cmyk = np.array([0, 0, 60, 0])  # 하한값\n",
    "\n",
    "# cmyk_image.jpg로 저장\n",
    "cv2.imwrite('cmyk_image.jpg', cmyk_image)\n",
    "            \n",
    "# CMYK 이미지를 700x700으로 줄임\n",
    "resize_cmyk_img = cv2.resize(cmyk_image, (720, 405))\n",
    "\n",
    "# CMYK 이미지를 1920x1080으로 다시 늘림\n",
    "resize_cmyk_img_1 = cv2.resize(resize_cmyk_img, (1920, 1080))\n",
    "\n",
    "# 특정 색상 범위에 해당하는 부분을 이진화하여 마스크 생성\n",
    "mask_cmyk = cv2.inRange(resize_cmyk_img_1, lower_bound_cmyk, upper_bound_cmyk)\n",
    "\n",
    "# 특정 색상 부분만 추출\n",
    "result_cmyk = cv2.bitwise_and(image, image, mask=mask_cmyk)\n",
    "\n",
    "# 결과 이미지 출력\n",
    "cv2.imshow('Result CMYK', result_cmyk)\n",
    "cv2.waitKey(0)\n",
    "cv2.destroyAllWindows()\n",
    "\n",
    "# JPG로 결과 이미지 저장\n",
    "cv2.imwrite('result_cmyk.jpg', result_cmyk)\n"
   ]
  },
  {
   "cell_type": "markdown",
   "metadata": {},
   "source": [
    "## OCR 인식 확인"
   ]
  },
  {
   "cell_type": "code",
   "execution_count": 33,
   "metadata": {},
   "outputs": [
    {
     "name": "stdout",
     "output_type": "stream",
     "text": [
      "Recognized Numbers: 27748081\n",
      "\n"
     ]
    }
   ],
   "source": [
    "import cv2\n",
    "import pytesseract\n",
    "import numpy as np\n",
    "\n",
    "# 이미지 불러오기\n",
    "# image_path = 'result.jpg'\n",
    "image_path = 'result_cmyk.jpg'\n",
    "\n",
    "image = cv2.imread(image_path)\n",
    "\n",
    "# 이미지를 그레이스케일로 변환\n",
    "gray = cv2.cvtColor(image, cv2.COLOR_BGR2GRAY)\n",
    "\n",
    "# 이진화\n",
    "_, thresh = cv2.threshold(gray, 0, 255, cv2.THRESH_BINARY + cv2.THRESH_OTSU)\n",
    "\n",
    "# 노이즈 제거를 위한 미디언 블러 적용\n",
    "median = cv2.medianBlur(thresh, 3)\n",
    "\n",
    "# 이미지 확장\n",
    "kernel = np.ones((2, 2), np.uint8)\n",
    "dilation = cv2.dilate(median, kernel, iterations=1)\n",
    "\n",
    "# Tesseract OCR을 사용하여 이미지에서 숫자만 추출\n",
    "text = pytesseract.image_to_string(dilation, config='--psm 6 outputbase digits')\n",
    "print(\"Recognized Numbers:\", text)\n",
    "\n",
    "# 이미지 새 창에 띄우기\n",
    "cv2.imshow('Processed Image', dilation)\n",
    "cv2.waitKey(0)\n",
    "cv2.destroyAllWindows()\n",
    "\n"
   ]
  },
  {
   "cell_type": "code",
   "execution_count": null,
   "metadata": {},
   "outputs": [],
   "source": [
    "import cv2\n",
    "import pytesseract\n",
    "import numpy as np\n",
    "\n",
    "# 이미지 불러오기\n",
    "# image_path = 'result.jpg'\n",
    "image_path = 'result_cmyk.jpg'\n",
    "\n",
    "image = cv2.imread(image_path)\n",
    "\n",
    "# 이미지를 그레이스케일로 변환\n",
    "gray = cv2.cvtColor(image, cv2.COLOR_BGR2GRAY)\n",
    "\n",
    "# 가우시안 노이즈 추가\n",
    "noise = np.random.normal(0, 10, gray.shape)  # 표준편차 값을 10으로 조정\n",
    "noisy_gray = np.clip(gray + noise, 0, 255).astype(np.uint8)\n",
    "\n",
    "# 이진화\n",
    "_, thresh = cv2.threshold(noisy_gray, 0, 255, cv2.THRESH_BINARY + cv2.THRESH_OTSU)\n",
    "\n",
    "# 노이즈 제거를 위한 미디언 블러 적용\n",
    "median = cv2.medianBlur(thresh, 3)\n",
    "\n",
    "# 이미지 확장\n",
    "kernel = np.ones((2, 2), np.uint8)\n",
    "dilation = cv2.dilate(median, kernel, iterations=1)\n",
    "\n",
    "# Tesseract OCR을 사용하여 이미지에서 숫자만 추출\n",
    "text = pytesseract.image_to_string(dilation, config='--psm 6 outputbase digits')\n",
    "print(\"Recognized Numbers:\", text)\n",
    "\n",
    "# 이미지 새 창에 띄우기\n",
    "cv2.imshow('Processed Image', dilation)\n",
    "cv2.waitKey(0)\n",
    "cv2.destroyAllWindows()\n"
   ]
  }
 ],
 "metadata": {
  "kernelspec": {
   "display_name": "loa",
   "language": "python",
   "name": "python3"
  },
  "language_info": {
   "codemirror_mode": {
    "name": "ipython",
    "version": 3
   },
   "file_extension": ".py",
   "mimetype": "text/x-python",
   "name": "python",
   "nbconvert_exporter": "python",
   "pygments_lexer": "ipython3",
   "version": "3.12.2"
  }
 },
 "nbformat": 4,
 "nbformat_minor": 2
}
