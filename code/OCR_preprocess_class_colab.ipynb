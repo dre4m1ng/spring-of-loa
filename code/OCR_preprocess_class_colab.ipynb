{
  "cells": [
    {
      "cell_type": "code",
      "execution_count": null,
      "metadata": {
        "colab": {
          "base_uri": "https://localhost:8080/"
        },
        "id": "4D60DfszDsBq",
        "outputId": "04ab8313-89d4-4cc0-9f9a-e2eb68c38681"
      },
      "outputs": [
        {
          "name": "stdout",
          "output_type": "stream",
          "text": [
            "Requirement already satisfied: opencv-python in /usr/local/lib/python3.10/dist-packages (4.8.0.76)\n",
            "Requirement already satisfied: numpy>=1.21.2 in /usr/local/lib/python3.10/dist-packages (from opencv-python) (1.25.2)\n"
          ]
        }
      ],
      "source": [
        "!pip install opencv-python"
      ]
    },
    {
      "cell_type": "code",
      "execution_count": null,
      "metadata": {
        "colab": {
          "base_uri": "https://localhost:8080/"
        },
        "id": "NKx1W1LmVL3Y",
        "outputId": "305ef235-49f7-4dfa-949e-8f0afe67173a"
      },
      "outputs": [
        {
          "name": "stdout",
          "output_type": "stream",
          "text": [
            "Mounted at /content/drive\n"
          ]
        }
      ],
      "source": [
        "from google.colab import drive\n",
        "drive.mount('/content/drive')"
      ]
    },
    {
      "cell_type": "code",
      "execution_count": null,
      "metadata": {
        "id": "wUSYt6oxyQPy"
      },
      "outputs": [],
      "source": [
        "import numpy as np\n",
        "import cv2\n",
        "import os\n",
        "from google.colab.patches import cv2_imshow  # 추가된 부분"
      ]
    },
    {
      "cell_type": "markdown",
      "metadata": {
        "id": "9N360v6Ul0QX"
      },
      "source": [
        "# Video Class"
      ]
    },
    {
      "cell_type": "code",
      "execution_count": null,
      "metadata": {
        "id": "mv4cBav6MSCN"
      },
      "outputs": [],
      "source": [
        "class VideoPreprocessor:\n",
        "    def __init__(self, video_path, save_folder, save_name_prefix, fps=10, save=False, size_type=1, quality=700):\n",
        "        self.video_path = video_path\n",
        "        self.save_folder = save_folder\n",
        "        self.save_name_prefix = str(save_name_prefix)\n",
        "        self.fps = fps\n",
        "        self.size_type = size_type\n",
        "        self.quality = quality\n",
        "        self.save = save\n",
        "\n",
        "    def preprocess_video(self, operations):\n",
        "        # cv2로 영상 파일 읽기\n",
        "        cap = cv2.VideoCapture(self.video_path)\n",
        "\n",
        "        # 설정한 FPS에 맞춰 간격을 계산\n",
        "        frame_interval = int(cap.get(cv2.CAP_PROP_FPS) / self.fps)  # fps = 내가 원하는 output의 fps 10 fps = 60/10 => 1초에 10장이 나오는 6fps으로 나눈것.\n",
        "        total_frames = int(cap.get(cv2.CAP_PROP_FRAME_COUNT))\n",
        "        current_frame = 0\n",
        "\n",
        "        # 저장 폴더가 없다면 생성\n",
        "        if not os.path.exists(self.save_folder):\n",
        "            os.makedirs(self.save_folder)\n",
        "\n",
        "        while True:\n",
        "            # 영상에서 프레임을 하나씩 읽어옴\n",
        "            ret, frame = cap.read()\n",
        "\n",
        "\n",
        "            # 더 이상 읽을 프레임이 없으면 종료\n",
        "            if not ret:\n",
        "                break\n",
        "\n",
        "            # 설정한 FPS에 맞춰 프레임 저장\n",
        "            if current_frame % frame_interval == 0:\n",
        "                try:\n",
        "                    # 전처리 객체 생성 및 전처리 수행\n",
        "                    preprocess_obj = preprocess(frame, self.save_folder, f\"{self.save_name_prefix}_{current_frame}\", save=self.save, size_type=self.size_type, quality=self.quality)    # 여기서 저장여부를 결정\n",
        "\n",
        "                    processed_frame = preprocess_obj.process_image(operations)\n",
        "\n",
        "                    # 전처리된 프레임을 다시 영상으로 저장\n",
        "                    out_path = os.path.join(self.save_folder, f\"{self.save_name_prefix}_{current_frame}.jpg\")\n",
        "                    cv2.imwrite(out_path, processed_frame)\n",
        "                    print(f\"{out_path} 저장 완료 ({current_frame}/{total_frames})\")\n",
        "\n",
        "                except Exception as e:\n",
        "                    print(f\"Error processing frame {current_frame}: {e}\")\n",
        "\n",
        "            # 프레임 번호 업데이트\n",
        "            current_frame += 1\n",
        "\n",
        "        # 자원 해제\n",
        "        cap.release()\n",
        "        print(\"작업 완료\")"
      ]
    },
    {
      "cell_type": "markdown",
      "metadata": {
        "id": "yvXTYqTCubVf"
      },
      "source": [
        "# Preprocess Class"
      ]
    },
    {
      "cell_type": "code",
      "execution_count": null,
      "metadata": {
        "id": "bhXaTG_etuxE"
      },
      "outputs": [],
      "source": [
        "class preprocess():\n",
        "    def __init__(self, image_data, save_folder, save_name, save=False, size_type=1, quality=700):\n",
        "        self.image = cv2.resize(image_data, (1920, 1080))\n",
        "        self.save_folder = save_folder\n",
        "        self.save_name = save_name\n",
        "        self.save = save\n",
        "        self.size_type = size_type\n",
        "        self.quality = quality\n",
        "        self.mask_regions = mask_regions = [\n",
        "                                            ((0, 0), (888, 25)),  # 상단 상태 표시줄\n",
        "                                            ((705, 30), (1195, 120)), # 보스 체력, 이름 게이지\n",
        "                                            ((695, 165), (1110, 175)), # 보스 상태이상\n",
        "                                            ((0, 1052), (257, 1072)), # 하단 레벨 표시\n",
        "                                            ((650, 970), (1300, 1070)), # 스킬, 체력 게이지\n",
        "                                            ((430, 900), (870, 970)), # 버프 표시줄\n",
        "                                            ((1520, 1030), (1900, 1070)), # 설정창\n",
        "                                            ((0, 790), (430, 1020)), # 채팅창\n",
        "                                            ((0, 340), (230, 640)), # 파티창\n",
        "                                            ((1630, 0), (1920, 300)), # 미니맵\n",
        "                                            ((1570, 20), (1620, 150)), # 미니맵 옆\n",
        "                                            ((1630, 410), (1920, 650)), # 퀘스트창\n",
        "                                            ((80, 50), (180, 95)), # 레이드 이름\n",
        "                                            ((630, 100), (690, 130)), # 광폭화까지 타이머\n",
        "                                            ((780, 30), (730, 45)), # 보스\n",
        "                                        ]\n",
        "        self.mask = self.create_mask(self.image.shape, self.mask_regions)\n",
        "\n",
        "\n",
        "    def create_mask(self, image_shape, mask_regions):\n",
        "        # 마스크 이미지 생성\n",
        "        mask = np.zeros(image_shape[:2], dtype=np.uint8)\n",
        "\n",
        "        # 마스크 영역을 흰색으로 채우기\n",
        "        for region in mask_regions:\n",
        "            cv2.rectangle(mask, region[0], region[1], 255, -1)\n",
        "        return mask\n",
        "\n",
        "\n",
        "    def apply_mask(self, save=False):\n",
        "        # 마스크 반전\n",
        "        mask_inv = cv2.bitwise_not(self.mask)\n",
        "\n",
        "        # 적용\n",
        "        masked_image = cv2.bitwise_and(self.image, self.image, mask=mask_inv)\n",
        "\n",
        "        # 최종 결과를 저장\n",
        "        if self.save:\n",
        "            cv2.imwrite(os.path.join(self.save_folder, self.save_name + '_mask.jpg'), masked_image)\n",
        "\n",
        "        self.image = masked_image\n",
        "        return self.image\n",
        "\n",
        "\n",
        "    def resize_image(self, image=None, save=False):   # 해상도 조절\n",
        "        if image is None:\n",
        "            image = self.image\n",
        "\n",
        "        if self.size_type == 1:\n",
        "            # 이미지를 700x700으로 줄임\n",
        "            image = cv2.resize(image, (self.quality, self.quality))   # 700, 750, 800, 850 1:1 비율\n",
        "            # 다시 1920x1080으로 확대\n",
        "            image = cv2.resize(image, (1920, 1080))\n",
        "        if self.size_type == 2:\n",
        "            # 이미지를 720x405 줄임\n",
        "            image = cv2.resize(image, (720, 405))   # 720:405 비율\n",
        "            # 다시 1920x1080으로 확대\n",
        "            image = cv2.resize(image, (1920, 1080))\n",
        "\n",
        "        resize_image = image\n",
        "        # 최종 결과를 저장\n",
        "        if self.save:\n",
        "            cv2.imwrite(os.path.join(self.save_folder, self.save_name + '_quality.jpg'), resize_image)\n",
        "\n",
        "        self.image = resize_image\n",
        "        return self.image\n",
        "\n",
        "\n",
        "    def extract_yellow(self, image=None, save=False):   # 이미지 처리\n",
        "        if image is None:\n",
        "            image = self.image\n",
        "\n",
        "        # HSV(Hue, Saturation, Value)로 이미지를 변환합니다.\n",
        "        hsv_image = cv2.cvtColor(image, cv2.COLOR_BGR2HSV)\n",
        "\n",
        "        # 노란색의 HSV 범위를 정의합니다.                               # 남궁맑음\n",
        "        lower_yellow = np.array([20, 160, 215])  # 노란색의 하한값      # [30, 150, 120]\n",
        "        upper_yellow = np.array([40, 255, 255])  # 노란색의 상한값      # [90, 255, 255]\n",
        "\n",
        "        # HSV 이미지에서 노란색 범위에 해당하는 픽셀을 찾습니다.\n",
        "        yellow_mask = cv2.inRange(hsv_image, lower_yellow, upper_yellow)\n",
        "\n",
        "        # 노란색을 제외한 나머지 부분을 검은색으로 대체합니다.\n",
        "        # 새 이미지 생성\n",
        "        result_image = image.copy()\n",
        "        result_image[yellow_mask == 0] = [0, 0, 0]\n",
        "\n",
        "        # 최종 결과물 저장\n",
        "        if self.save:\n",
        "            cv2.imwrite(os.path.join(self.save_folder, self.save_name + '_extract_Cri.jpg'), result_image)\n",
        "\n",
        "        self.image = result_image\n",
        "        return self.image\n",
        "\n",
        "\n",
        "    def extract_white(self, image=None, save=False):\n",
        "        if image is None:\n",
        "            image = self.image\n",
        "\n",
        "        # HSV(Hue, Saturation, Value)로 이미지를 변환합니다.\n",
        "        hsv_image = cv2.cvtColor(image, cv2.COLOR_BGR2HSV)\n",
        "\n",
        "        # 하얀색의 HSV 범위를 정의합니다. (하얀색은 채도가 낮고 명도가 높습니다.)\n",
        "        lower_white = np.array([0, 0, 200])\n",
        "        upper_white = np.array([180, 25, 255])\n",
        "\n",
        "        # HSV 이미지에서 하얀색 범위에 해당하는 픽셀을 찾습니다.\n",
        "        white_mask = cv2.inRange(hsv_image, lower_white, upper_white)\n",
        "\n",
        "        # 하얀색에 해당하는 마스크를 사용하여 해당 색상만 추출합니다.\n",
        "        # 새 이미지 생성\n",
        "        result_image = image.copy()\n",
        "        result_image[white_mask == 0] = [0, 0, 0]\n",
        "\n",
        "        # 최종 결과물 저장\n",
        "        if self.save:\n",
        "            cv2.imwrite(os.path.join(self.save_folder, self.save_name + '_extract_Norm.jpg'), result_image)\n",
        "\n",
        "        self.image = result_image\n",
        "        return self.image\n",
        "\n",
        "\n",
        "    def gaussian_blur(self, image=None, kernel_size=(5, 5), sigma_x=0, save=False):\n",
        "        \"\"\"\n",
        "        이미지에 가우시안 블러를 적용하는 함수\n",
        "        :param image: 원본 이미지\n",
        "        :param kernel_size: 커널 크기, (너비, 높이) 형태의 튜플. 커널 크기가 커질수록 더 많이 흐려짐.\n",
        "        :param sigma_x: 가우시안 커널의 X 방향 표준편차. 0이면 커널 크기로부터 자동 계산됨.\n",
        "        :return: 가우시안 블러가 적용된 이미지\n",
        "        \"\"\"\n",
        "        if image is None:\n",
        "            image = self.image\n",
        "\n",
        "        gaussian_image = cv2.GaussianBlur(image, kernel_size, sigma_x)\n",
        "\n",
        "        if self.save:\n",
        "            cv2.imwrite(os.path.join(self.save_folder, self.save_name+ '_gaussian.jpg'), gaussian_image)\n",
        "\n",
        "        self.image = gaussian_image\n",
        "        return self.image\n",
        "\n",
        "\n",
        "    def median_blur(self, image=None, kernel_size=5, save=False):\n",
        "        \"\"\"\n",
        "        지정된 이미지에 미디언 블러를 적용하는 함수입니다.\n",
        "        :param image: 처리할 이미지의 파일 경로입니다.\n",
        "        :param kernel_size: 미디언 블러를 적용할 때 사용할 커널 크기입니다. 기본값은 5입니다.\n",
        "        :param show_result: 처리된 이미지를 보여줄지 여부입니다. 기본값은 True입니다.\n",
        "        \"\"\"\n",
        "        if image is None:\n",
        "            image = self.image\n",
        "\n",
        "        # 미디언 블러를 적용합니다.\n",
        "        median_image = cv2.medianBlur(image, kernel_size)\n",
        "\n",
        "        if self.save:\n",
        "            cv2.imwrite(os.path.join(self.save_folder, self.save_name + '_median.jpg'), median_image)\n",
        "\n",
        "        self.image = median_image\n",
        "        return self.image\n",
        "\n",
        "\n",
        "    def binarize_image(self, image=None, save=False):\n",
        "        if image is None:\n",
        "            image = self.image\n",
        "\n",
        "        # 이미지를 그레이스케일로 로드\n",
        "        image = cv2.cvtColor(image, cv2.COLOR_BGR2GRAY)\n",
        "\n",
        "        # 이진화 수행\n",
        "        _, otsu_thresholded = cv2.threshold(image, 0, 255, cv2.THRESH_BINARY + cv2.THRESH_OTSU)\n",
        "\n",
        "        if self.save:\n",
        "            cv2.imwrite(os.path.join(self.save_folder, self.save_name + '_binary.jpg'), otsu_thresholded)\n",
        "\n",
        "        self.image = otsu_thresholded\n",
        "        return self.image\n",
        "\n",
        "\n",
        "    # RGB to CMYK 변환 함수 -> 폐기 ....가능성 다분\n",
        "    def rgb_to_cmyk(self, image):\n",
        "\n",
        "        # 이미지를 0~1 사이로 정규화\n",
        "        rgb_image = image.astype(np.float32) / 255.0\n",
        "\n",
        "        r = rgb_image[:,:,2]\n",
        "        g = rgb_image[:,:,1]\n",
        "        b = rgb_image[:,:,0]\n",
        "\n",
        "        c = 1 - r\n",
        "        m = 1 - g\n",
        "        y = 1 - b\n",
        "\n",
        "        k = np.minimum(c, np.minimum(m, y))\n",
        "\n",
        "        c = (c - k) / (1 - k + 1e-10)  # 0으로 나누는 오류를 피하기 위해 작은 값 추가\n",
        "        m = (m - k) / (1 - k + 1e-10)\n",
        "        y = (y - k) / (1 - k + 1e-10)\n",
        "\n",
        "        # K 값은 그대로 사용\n",
        "        k = k\n",
        "\n",
        "        # CMYK 이미지 생성 (0~100% 범위로 변환)\n",
        "        cmyk_image = np.stack([c, m, y, k], axis=-1) * 100\n",
        "        cmyk_image = cmyk_image.astype(np.uint8)\n",
        "        return cmyk_image\n",
        "\n",
        "\n",
        "    def cmyk_transfer(self, image=None, save=False):\n",
        "        if image is None:\n",
        "            image = self.image\n",
        "\n",
        "        # 오리지널 이미지\n",
        "        ori_image = image\n",
        "\n",
        "        # RGB 이미지를 CMYK로 변환\n",
        "        cmyk_image = self.rgb_to_cmyk(ori_image)\n",
        "\n",
        "        # CMYK 색상 범위 설정 (0~100%)\n",
        "                                    # [C, M, Y, K]\n",
        "        # upper_bound_cmyk = np.array([100, 100, 100, 100])  # 상한값\n",
        "        # lower_bound_cmyk = np.array([0, 0, 0, 0])  # 하한값\n",
        "        upper_bound_cmyk = np.array([0, 30, 100, 10])  # 상한값\n",
        "        lower_bound_cmyk = np.array([0, 0, 60, 0])  # 하한값\n",
        "\n",
        "\n",
        "        # 특정 색상 범위에 해당하는 부분을 이진화하여 마스크 생성\n",
        "        mask_cmyk = cv2.inRange(cmyk_image, lower_bound_cmyk, upper_bound_cmyk)\n",
        "\n",
        "        # 특정 색상 부분만 추출\n",
        "        result_cmyk = cv2.bitwise_and(ori_image, ori_image, mask=mask_cmyk)\n",
        "\n",
        "        if self.save:\n",
        "            cv2.imwrite(os.path.join(self.save_folder, self.save_name + '_cymk.jpg'), result_cmyk)\n",
        "\n",
        "        self.image = result_cmyk\n",
        "        return self.image\n",
        "\n",
        "\n",
        "    def process_image(self, operations):\n",
        "        \"\"\"\n",
        "        전처리 테스트용 함수.\n",
        "        operations: 실행하고자 하는 작업들의 리스트. 예: ['apply_mask', 'resize_image', 'extract_yellow', 'gaussian_blur']\n",
        "        \"\"\"\n",
        "        image = self.image\n",
        "        for operation in operations:\n",
        "            if hasattr(self, operation):\n",
        "                method = getattr(self, operation)\n",
        "                image = method(image)\n",
        "            else:\n",
        "                print(f\"{operation} 메서드는 존재하지 않습니다.\")\n",
        "\n",
        "        return image"
      ]
    },
    {
      "cell_type": "markdown",
      "metadata": {
        "id": "1j6sv5HD35xt"
      },
      "source": [
        "# 테스트 코드"
      ]
    },
    {
      "cell_type": "markdown",
      "metadata": {
        "id": "Kdgry4aJ68s2"
      },
      "source": [
        "## process-class"
      ]
    },
    {
      "cell_type": "code",
      "execution_count": null,
      "metadata": {
        "id": "0EWE5M-FV3gn"
      },
      "outputs": [],
      "source": [
        "### 사용 예시 ###\n",
        "\"\"\"\n",
        "# 비디오 클래스와 비슷함. 그리고 blur들에 경우 커널 사이즈를 정할 수 있습니다.\n",
        "param kernel_size: 커널 크기, (너비, 높이) 형태의 튜플. 커널 크기가 커질수록 더 많이 흐려짐. -> 변경을 원할시 method 에서 직접 변경해주셔야 합니다.\n",
        "색 추출을 위한 픽셀값은 상한값 하한값들이 클래스내에 이미 추천해놨습니다. 2가지 경우를 바꾸면서 원하시는것을 사용해주세요.\n",
        "\n",
        "image_data = cv2.imread(\"/content/drive/MyDrive/Colab Notebooks/OCR-project/dataset/1/striker_valtan_gate_02(jpg)/frame10_12954.jpg\")   # 이미지에 대해 전처리만 원하시면 cv2.imread(\"경로\")를 해주세요.\n",
        "save_folder = \"/content/drive/MyDrive/Colab Notebooks/OCR-project/dataset/test\"                                                         # 저장 경로\n",
        "save_name = \"test_12954\"                                                                                                                # 유니크 이름\n",
        "\n",
        "preprocess_obj = preprocess(image_path, save_folder, save_name, save=False, size_type=1)\n",
        "processed_image = preprocess_obj.process_image(['apply_mask', 'resize_image', 'extract_yellow', 'gaussian_blur'])\n",
        "\"\"\""
      ]
    },
    {
      "cell_type": "code",
      "execution_count": null,
      "metadata": {
        "id": "hXuyUTHPq8cM"
      },
      "outputs": [],
      "source": [
        "image_data = cv2.imread(\"/content/drive/MyDrive/Colab Notebooks/OCR-project/dataset/1/striker_valtan_gate_02(jpg)/frame10_12954.jpg\")\n",
        "save_folder = \"/content/drive/MyDrive/Colab Notebooks/OCR-project/dataset/test\"\n",
        "save_name = \"test_12954\"\n",
        "\n",
        "preprocess_obj = preprocess(image_data, save_folder, save_name, save=True, size_type=1)\n",
        "processed_image = preprocess_obj.process_image(operations=['resize_image', 'apply_mask', 'extract_yellow', 'gaussian_blur'])"
      ]
    },
    {
      "cell_type": "code",
      "execution_count": null,
      "metadata": {
        "id": "DWr1CLoTtXaL"
      },
      "outputs": [],
      "source": [
        "# 반환된 이미지 배열을 사진으로 보여주기\n",
        "cv2_imshow(processed_image)"
      ]
    },
    {
      "cell_type": "markdown",
      "metadata": {
        "id": "JZkfUlZ4dHtW"
      },
      "source": [
        "## video-class 테스트"
      ]
    },
    {
      "cell_type": "code",
      "execution_count": null,
      "metadata": {
        "id": "aVaYOdM1nLoB"
      },
      "outputs": [],
      "source": [
        "### 사용 예시 ###\n",
        "\"\"\"\n",
        "video_path = '/content/drive/MyDrive/Colab Notebooks/OCR-project/dataset/Lost Ark 2min.mp4' # 사용경로\n",
        "save_folder = '/content/drive/MyDrive/Colab Notebooks/OCR-project/dataset/test'             # 저장경로\n",
        "save_name_prefix = 'frame'                                                                  # unique 한 이름 보통 (닉네임 또는 직업명)\n",
        "fps = 12                                                                                    # 원하는 프레임\n",
        "\n",
        "video_preprocessor = VideoPreprocessor(video_path, save_folder, save_name_prefix, fps=fps, size_type=1)     # quality 파라미터 도 있다. => 700 ~ 850, type 2는 비율\n",
        "                                                                                                            # 만약 전처리 되는 사진들까지 저장하고 싶다면, save=True\n",
        "\n",
        "video_preprocessor.preprocess_video(['apply_mask', 'resize_image', 'extract_yellow', 'gaussian_blur'])      # 원하는 전처리 메소드를 리스트안에 넣어서 시작\n",
        "\"\"\"\n",
        "## 아웃풋 -> blade_56.jpg"
      ]
    },
    {
      "cell_type": "code",
      "execution_count": null,
      "metadata": {
        "colab": {
          "base_uri": "https://localhost:8080/"
        },
        "id": "okU1Yiz-dGd6",
        "outputId": "66ec2231-a3d0-4479-8843-c180ccdd868f"
      },
      "outputs": [],
      "source": [
        "video_path = '/content/drive/MyDrive/Colab Notebooks/OCR-project/dataset/Lost Ark 30s.mp4' # 사용경로\n",
        "save_folder = '/content/drive/MyDrive/Colab Notebooks/OCR-project/dataset/test/blade_test' # 저장경로\n",
        "save_name_prefix = 'blade'\n",
        "fps = 12\n",
        "\n",
        "video_preprocessor = VideoPreprocessor(video_path, save_folder, save_name_prefix, fps=fps, size_type=1)\n",
        "video_preprocessor.preprocess_video(operations=['resize_image','apply_mask','extract_yellow','binarize_image', 'gaussian_blur', 'median_blur'])"
      ]
    }
  ],
  "metadata": {
    "colab": {
      "provenance": []
    },
    "kernelspec": {
      "display_name": "Python 3",
      "name": "python3"
    },
    "language_info": {
      "name": "python"
    }
  },
  "nbformat": 4,
  "nbformat_minor": 0
}
