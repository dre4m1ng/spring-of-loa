{
 "cells": [
  {
   "cell_type": "code",
   "execution_count": null,
   "metadata": {},
   "outputs": [],
   "source": [
    "import wandb\n",
    "import random\n",
    "\n",
    "# put your wanDB token in prompt!\n",
    "wandb.login()\n",
    "\n",
    "# start a new wandb run to track this script\n",
    "wandb.init(\n",
    "    project=\"ocr\",\n",
    "    entity=\"sol_of_loa\",\n",
    "    name = \"BASE\"\n",
    ")\n",
    "\n",
    "\n",
    "# simulate training\n",
    "epochs = 10\n",
    "offset = random.random() / 5\n",
    "for epoch in range(2, epochs):\n",
    "    acc = 1 - 2 ** -epoch - random.random() / epoch - offset\n",
    "    loss = 2 ** -epoch + random.random() / epoch + offset\n",
    "\n",
    "    # log metrics to wandb\n",
    "    wandb.log({\"acc\": acc, \"loss\": loss})\n",
    "\n",
    "# [optional] finish the wandb run, necessary in notebooks\n",
    "wandb.finish()"
   ]
  },
  {
   "cell_type": "code",
   "execution_count": null,
   "metadata": {},
   "outputs": [],
   "source": [
    "from Model import OCRModel_WDB\n",
    "\n",
    "# 모델 객체 생성\n",
    "ocr_model = OCRModel_DB(lang='korean', use_gpu=True, run_name='Try')    # OCRModel.py 와 달리 \n",
    "                                                                        # run_name 을 설정해줘야한다.\n",
    "\n",
    "# 이미지 경로 리스트\n",
    "yellow_folder_path = (r'')  # 노랑\n",
    "white_folder_path = (r'')   # 하양\n",
    "gt_path = r'.json'          # label json 경로\n",
    "output_path = r'.json'      # result(ouput).json 경로\n",
    "\n",
    "results = ocr_model.process_images(yellow_folder_path, white_folder_path, confidence_threshold=0.9)\n",
    "ocr_model.save_results(results, output_path)\n",
    "\n",
    "# 총 데미지 계산\n",
    "print()\n",
    "total_critical_damage, total_normal_damage, total_damage = ocr_model.calculate_total_damage(results)\n",
    "print(f\"Total Critical Damage: {total_critical_damage}\")\n",
    "print(f\"Total Normal Damage: {total_normal_damage}\")\n",
    "print(f\"Total Damage: {total_damage}\")\n",
    "\n",
    "# 성능 평가\n",
    "critical_precision, critical_recall, critical_accuracy, normal_precision, normal_recall, normal_accuracy, total_accuracy = ocr_model.evaluate(output_path, gt_path)\n",
    "print(f\"Critical Precision: {critical_precision:.4f}\")\n",
    "print(f\"Critical Recall: {critical_recall:.4f}\")\n",
    "print(f\"Critical Accuracy: {critical_accuracy:.4f}\\n\")\n",
    "print(f\"Normal Precision: {normal_precision:.4f}\")\n",
    "print(f\"Normal Recall: {normal_recall:.4f}\")\n",
    "print(f\"Normal Accuracy: {normal_accuracy:.4f}\\n\")\n",
    "print(f\"Total Accuracy: {total_accuracy:.4f}\")\n",
    "\n",
    "print()\n",
    "ocr_model.visualize_errors(output_path, gt_path, yellow_folder_path, white_folder_path, r'에러저장 경로')"
   ]
  }
 ],
 "metadata": {
  "language_info": {
   "name": "python"
  }
 },
 "nbformat": 4,
 "nbformat_minor": 2
}
